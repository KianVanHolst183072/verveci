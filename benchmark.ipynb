{
 "cells": [
  {
   "cell_type": "code",
   "execution_count": 114,
   "metadata": {},
   "outputs": [],
   "source": [
    "import streamlit as st\n",
    "import plotly.figure_factory as ff\n",
    "import pandas as pd\n",
    "import numpy as np"
   ]
  },
  {
   "cell_type": "code",
   "execution_count": 115,
   "metadata": {},
   "outputs": [],
   "source": [
    "df = pd.read_csv(\"titanic.csv\")"
   ]
  },
  {
   "cell_type": "code",
   "execution_count": 116,
   "metadata": {},
   "outputs": [],
   "source": [
    "del df['Cabin']"
   ]
  },
  {
   "cell_type": "code",
   "execution_count": 117,
   "metadata": {},
   "outputs": [],
   "source": [
    "df = df.dropna()"
   ]
  },
  {
   "cell_type": "code",
   "execution_count": 118,
   "metadata": {},
   "outputs": [],
   "source": [
    "df['Age'] = df['Age'].astype(int)"
   ]
  },
  {
   "cell_type": "code",
   "execution_count": 119,
   "metadata": {},
   "outputs": [
    {
     "data": {
      "text/plain": [
       "DeltaGenerator(_root_container=0, _provided_cursor=None, _parent=None, _block_type=None, _form_data=None)"
      ]
     },
     "execution_count": 119,
     "metadata": {},
     "output_type": "execute_result"
    }
   ],
   "source": [
    "st.title(\"Results\")"
   ]
  },
  {
   "cell_type": "code",
   "execution_count": 120,
   "metadata": {},
   "outputs": [],
   "source": [
    "user_input = df.iloc[10]"
   ]
  },
  {
   "cell_type": "code",
   "execution_count": 121,
   "metadata": {},
   "outputs": [],
   "source": [
    "tab1, tab2, tab3 = st.tabs([\"Demographics\", \"Dog\", \"Owl\"])\n",
    "\n",
    "with tab1:\n",
    "   st.header(\"Demographics\")\n",
    "   with st.container():\n",
    "      col1, col2, col3 = st.columns([2,3,1])\n",
    "      with col1:\n",
    "         st.subheader(f\"Passenger name: {user_input[3]}\")\n",
    "         st.subheader(f\"Passenger age: {user_input[5]}\")\n",
    "         st.subheader(f\"Passenger sex: {user_input[4]}\")\n",
    "      with col2:\n",
    "         st.subheader(\"Data\")\n",
    "         \n",
    "         x1 = df.loc[df['Sex'] == 'male'].loc[:, 'Fare']\n",
    "         x2 = df.loc[df['Sex'] == 'female'].loc[:, 'Fare']\n",
    "\n",
    "         hist_data = [x1, x2]\n",
    "         group_labels = ['Male fare', 'Female fare']\n",
    "         fig = ff.create_distplot(\n",
    "            hist_data, group_labels, bin_size=[.1, .25,])\n",
    "         st.plotly_chart(fig, use_container_width=True)\n",
    "      with col3:\n",
    "         st.text(\"Text\")\n",
    "\n",
    "\n",
    "with tab2:\n",
    "   st.header(\"Competency 2\")\n",
    "\n",
    "\n",
    "with tab3:\n",
    "   st.header(\"An owl\")\n"
   ]
  }
 ],
 "metadata": {
  "kernelspec": {
   "display_name": "base",
   "language": "python",
   "name": "python3"
  },
  "language_info": {
   "codemirror_mode": {
    "name": "ipython",
    "version": 3
   },
   "file_extension": ".py",
   "mimetype": "text/x-python",
   "name": "python",
   "nbconvert_exporter": "python",
   "pygments_lexer": "ipython3",
   "version": "3.9.13"
  },
  "orig_nbformat": 4
 },
 "nbformat": 4,
 "nbformat_minor": 2
}
